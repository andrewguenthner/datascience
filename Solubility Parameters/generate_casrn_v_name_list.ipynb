{
 "cells": [
  {
   "cell_type": "markdown",
   "metadata": {},
   "source": [
    "# Generating a list of chemical names and CAS Registry Numbers"
   ]
  },
  {
   "cell_type": "markdown",
   "metadata": {},
   "source": [
    "Function:  This notebook generates a database table of Chemical Abstract Service Registry Numbers from substance names. \n",
    "Rationale:  The database table allows the CAS Registry Number to be used as an index for subsequent manipulations with \n",
    "solubility parameter data, enabling rapid and unambiguous operations on solvent sets.  Using a large data set now will make the system extensible for widespread use later. Having a custom notebook do this job ensures compatibility and\n",
    "isolates the solubility parameter code from dependency on external sources."
   ]
  },
  {
   "cell_type": "markdown",
   "metadata": {},
   "source": [
    "### Dependencies / Requirements\n",
    "The standard sqlite3 library is used. The XML library also needs to be installed.  The notebook expects a source file named\n",
    "'chemid_latest.xml' to be located in a folder called 'chemidplus' within a folder named 'Data_Sources' co-located with this notebook.  Special note:  due to the large size of the unzipped .xml file, it is not provided in the GitHub source.  Instead,\n",
    "a zipped version is provided on GitHub.  When downloading source code from GitHub, unzip the file and place it in a folder\n",
    "named chemidplus in Data_Sources."
   ]
  },
  {
   "cell_type": "markdown",
   "metadata": {},
   "source": [
    "* Note:  **Input file size is very large -- ~ 1 GB**"
   ]
  },
  {
   "cell_type": "code",
   "execution_count": 1,
   "metadata": {},
   "outputs": [],
   "source": [
    "import datetime\n",
    "import pandas as pd\n",
    "import numpy as np\n",
    "import xml.etree.ElementTree as ET\n",
    "import sqlite3 \n",
    "# Input file\n",
    "infile = 'Data_Sources/chemidplus/chemid_latest.xml'"
   ]
  },
  {
   "cell_type": "markdown",
   "metadata": {},
   "source": [
    "### Import and Set-Up"
   ]
  },
  {
   "cell_type": "code",
   "execution_count": 2,
   "metadata": {},
   "outputs": [
    {
     "data": {
      "text/plain": [
       "'file'"
      ]
     },
     "execution_count": 2,
     "metadata": {},
     "output_type": "execute_result"
    }
   ],
   "source": [
    "# Fetch the input file and convert it to an XML tree -- root.tag should return\n",
    "# 'file' if this executes correctly -- this step takes some time to execute\n",
    "with open(infile,'r') as f:\n",
    "    tree = ET.parse(infile)\n",
    "root = tree.getroot()\n",
    "root.tag"
   ]
  },
  {
   "cell_type": "code",
   "execution_count": 3,
   "metadata": {},
   "outputs": [
    {
     "data": {
      "text/plain": [
       "420658"
      ]
     },
     "execution_count": 3,
     "metadata": {},
     "output_type": "execute_result"
    }
   ],
   "source": [
    "# FYI, print the number of chemicals in the root -- this should be several hundred k\n",
    "len(root)"
   ]
  },
  {
   "cell_type": "code",
   "execution_count": 4,
   "metadata": {},
   "outputs": [],
   "source": [
    "# To read in the data, we will first make lists\n",
    "# Later, we'll put these in DataFrames to process quickly\n",
    "# For now, just make lists of name, CASRN and CASRN, synonym\n",
    "prim_name = []\n",
    "casrn = []\n",
    "casrn_syn = []\n",
    "syn = []\n",
    "\n",
    "for substance in range(len(root)):\n",
    "    subst_name = root[substance][0].find('NameOfSubstance')\n",
    "    subst_cas = root[substance][1].find('CASRegistryNumber')\n",
    "    \n",
    "    # Skip all list additions if there is not both a main name and CASRN\n",
    "    if subst_name is not None and subst_cas is not None:\n",
    "        prim_name.append(subst_name.text)\n",
    "        casrn.append(subst_cas.text)\n",
    "        \n",
    "        # Check if there is a systematic name\n",
    "        subst_syst = root[substance][0].find('SystematicName')\n",
    "        \n",
    "        # Add it to synonym list if there is\n",
    "        if subst_syst is not None:\n",
    "            casrn_syn.append(subst_cas.text)\n",
    "            syn.append(subst_syst.text)\n",
    "            \n",
    "        # Check if there are synonyms\n",
    "        subst_syn = root[substance][0].findall('Synonyms')\n",
    "        \n",
    "        # Add if there are any ...\n",
    "        if len(subst_syn) != 0:\n",
    "            for synonym in subst_syn:\n",
    "                casrn_syn.append(subst_cas.text)\n",
    "                syn.append(synonym.text)\n",
    "        "
   ]
  },
  {
   "cell_type": "code",
   "execution_count": 32,
   "metadata": {},
   "outputs": [],
   "source": [
    "# Now, convert lists to DataFrames for further processing\n",
    "name_CAS_df = pd.DataFrame({'Subst_Name':prim_name,'CASRN':casrn})\n",
    "synonyms_df = pd.DataFrame({'CASRN':casrn_syn,'Synonym':syn})"
   ]
  },
  {
   "cell_type": "code",
   "execution_count": 33,
   "metadata": {},
   "outputs": [
    {
     "name": "stdout",
     "output_type": "stream",
     "text": [
      "name_CAS has 120692 rows with 119838 unique names.\n",
      "name_CAS has 120692 unique CAS Registry Numbers.\n",
      "Synonyms table has 706245 rows with 690191 synonyms.\n"
     ]
    }
   ],
   "source": [
    "# Get some DataFrame info on length and unique values\n",
    "print (f'name_CAS has {len(name_CAS_df)} rows with {name_CAS_df.Subst_Name.nunique()} unique names.')\n",
    "print (f'name_CAS has {name_CAS_df.CASRN.nunique()} unique CAS Registry Numbers.')\n",
    "print (f'Synonyms table has {len(synonyms_df)} rows with {synonyms_df.Synonym.nunique()} synonyms.')"
   ]
  },
  {
   "cell_type": "markdown",
   "metadata": {},
   "source": [
    "### Data Processing\n",
    "\n",
    "What you should see is no duplicate CAS Registry Numbers, some duplicated names, and quite a few duplicated synonyms...\n",
    "The following cells take care of the easy stuff ... "
   ]
  },
  {
   "cell_type": "code",
   "execution_count": 34,
   "metadata": {},
   "outputs": [],
   "source": [
    "# Drop cases where name, CAS pairs are duplicates -- there should not be any to start with\n",
    "# but just in case there are, ths is a quick way that would fix it\n",
    "name_CAS_df.drop_duplicates(inplace = True)\n",
    "# For the synonyms column, drop duplicated CASRN, synonym pairs -- this usually represents a majority of cases\n",
    "synonyms_df.drop_duplicates(inplace = True)"
   ]
  },
  {
   "cell_type": "code",
   "execution_count": 35,
   "metadata": {},
   "outputs": [],
   "source": [
    "# Drop any rows of the Synonyms where the Synonym, CASRN pair is the same as a name, CASRN pair\n",
    "synonyms_df = synonyms_df.merge(name_CAS_df, left_on = ['Synonym','CASRN'], right_on = ['Subst_Name','CASRN'], \n",
    "                                how='left', indicator=True).query('_merge == \"left_only\"').drop('_merge', 1)\n",
    "# This operation produces an extra column in synonyms_df that needs deletion\n",
    "synonyms_df = synonyms_df.drop(columns = 'Subst_Name')"
   ]
  },
  {
   "cell_type": "code",
   "execution_count": 36,
   "metadata": {},
   "outputs": [
    {
     "name": "stdout",
     "output_type": "stream",
     "text": [
      "name_CAS has 120692 rows with 119838 unique names.\n",
      "name_CAS has 120692 unique CAS Registry Numbers.\n",
      "Synonyms table has 643629 rows with 638199 synonyms.\n"
     ]
    }
   ],
   "source": [
    "# Now check the results ...\n",
    "print (f'name_CAS has {len(name_CAS_df)} rows with {name_CAS_df.Subst_Name.nunique()} unique names.')\n",
    "print (f'name_CAS has {name_CAS_df.CASRN.nunique()} unique CAS Registry Numbers.')\n",
    "print (f'Synonyms table has {len(synonyms_df)} rows with {synonyms_df.Synonym.nunique()} synonyms.')"
   ]
  },
  {
   "cell_type": "markdown",
   "metadata": {},
   "source": [
    "To tackle ambiguous entries, we will make use of the fact that CAS Registry Numbers reflect the order of entry,\n",
    "thus the more \"common\" compound is entered first.  We will assign a CAS priority number, sort on this, and \n",
    "only keep the duplicate with the lower number in the primary name table.  We will take the alternates to a separate\n",
    "table for later use."
   ]
  },
  {
   "cell_type": "code",
   "execution_count": 37,
   "metadata": {},
   "outputs": [],
   "source": [
    "# Parse the CAS Registry Number -- the last digit is a checksum and can be dropped\n",
    "name_CAS_df['CASRank'] = name_CAS_df.CASRN.str.split('-',3).apply(lambda x : x[0]).astype('int') * 100 \\\n",
    "                      + name_CAS_df.CASRN.str.split('-',3).apply(lambda x : x[1]).astype('int')\n",
    "# Sort by this rank -- the source data is typically sorted already\n",
    "name_CAS_df = name_CAS_df.sort_values(by='CASRank')\n",
    "# Now create duplicate flags\n",
    "name_CAS_df['Dup_Name_Flag'] = name_CAS_df.duplicated('Subst_Name',keep = False)\n",
    "# Drop the rank columns as is it no longer needed\n",
    "name_CAS_df = name_CAS_df.drop(columns='CASRank')"
   ]
  },
  {
   "cell_type": "code",
   "execution_count": 38,
   "metadata": {},
   "outputs": [],
   "source": [
    "# First grab the duplicates \n",
    "alt_primary_name_df = name_CAS_df[name_CAS_df.duplicated('Subst_Name')]\n",
    "# Now they can be safely dropped from the main table\n",
    "name_CAS_df = name_CAS_df.drop_duplicates('Subst_Name')"
   ]
  },
  {
   "cell_type": "code",
   "execution_count": 39,
   "metadata": {
    "scrolled": true
   },
   "outputs": [
    {
     "name": "stdout",
     "output_type": "stream",
     "text": [
      "name_CAS has 119838 rows with 119838 unique names.\n",
      "name_CAS has 119838 unique CAS Registry Numbers.\n",
      "Synonyms table has 643629 rows with 638199 synonyms.\n"
     ]
    }
   ],
   "source": [
    "# Now check the results ...\n",
    "print (f'name_CAS has {len(name_CAS_df)} rows with {name_CAS_df.Subst_Name.nunique()} unique names.')\n",
    "print (f'name_CAS has {name_CAS_df.CASRN.nunique()} unique CAS Registry Numbers.')\n",
    "print (f'Synonyms table has {len(synonyms_df)} rows with {synonyms_df.Synonym.nunique()} synonyms.')"
   ]
  },
  {
   "cell_type": "code",
   "execution_count": 40,
   "metadata": {},
   "outputs": [
    {
     "name": "stdout",
     "output_type": "stream",
     "text": [
      "name_CAS has 119838 rows with 119838 unique names.\n",
      "name_CAS has 119838 unique CAS Registry Numbers.\n",
      "Synonyms table has 638199 rows with 638199 synonyms.\n"
     ]
    }
   ],
   "source": [
    "# Do for the synonyms table what was done for the name_CASRN table\n",
    "# Parse the CAS Registry Number \n",
    "synonyms_df['CASRank'] = synonyms_df.CASRN.str.split('-',3).apply(lambda x : x[0]).astype('int') * 100 \\\n",
    "                      + synonyms_df.CASRN.str.split('-',3).apply(lambda x : x[1]).astype('int')\n",
    "# Sort by this rank -- the source data is typically sorted already\n",
    "synonyms_df = synonyms_df.sort_values(by='CASRank')\n",
    "# Now create duplicate flags\n",
    "synonyms_df['Dup_Name_Flag'] = synonyms_df.duplicated('Synonym',keep = False)\n",
    "# Drop the rank columns as is it no longer needed\n",
    "synonyms_df = synonyms_df.drop(columns='CASRank')\n",
    "\n",
    "# First grab the duplicates \n",
    "alt_synonyms_df = synonyms_df[synonyms_df.duplicated('Synonym')]\n",
    "# Now they can be safely dropped from the main table\n",
    "synonyms_df = synonyms_df.drop_duplicates('Synonym')\n",
    "\n",
    "# Now check the results ...\n",
    "print (f'name_CAS has {len(name_CAS_df)} rows with {name_CAS_df.Subst_Name.nunique()} unique names.')\n",
    "print (f'name_CAS has {name_CAS_df.CASRN.nunique()} unique CAS Registry Numbers.')\n",
    "print (f'Synonyms table has {len(synonyms_df)} rows with {synonyms_df.Synonym.nunique()} synonyms.')"
   ]
  },
  {
   "cell_type": "code",
   "execution_count": null,
   "metadata": {},
   "outputs": [],
   "source": []
  },
  {
   "cell_type": "markdown",
   "metadata": {},
   "source": [
    "### Data Validation\n",
    "For validation, the CAS Registry Numbers are checked against names and synonyms from a known solvent set.  The default set\n",
    "is a list of 100 of the most commonly used solvents  for Hansen Solubility Parameter determination, based on Hansen's key experimental work.  Custom validations can be added by placing the name and CAS Registry Number into the 'validation.csv' file.\n",
    "These hand-curated validations come from Sigma-Aldrich catalogs, Wikipedia, PubMed, and other on-line sources.  In all cases,\n",
    "at least two sources were checked to validate the CAS Registry Number in the table."
   ]
  },
  {
   "cell_type": "code",
   "execution_count": 69,
   "metadata": {},
   "outputs": [
    {
     "data": {
      "text/html": [
       "<div>\n",
       "<style scoped>\n",
       "    .dataframe tbody tr th:only-of-type {\n",
       "        vertical-align: middle;\n",
       "    }\n",
       "\n",
       "    .dataframe tbody tr th {\n",
       "        vertical-align: top;\n",
       "    }\n",
       "\n",
       "    .dataframe thead th {\n",
       "        text-align: right;\n",
       "    }\n",
       "</style>\n",
       "<table border=\"1\" class=\"dataframe\">\n",
       "  <thead>\n",
       "    <tr style=\"text-align: right;\">\n",
       "      <th></th>\n",
       "      <th>Subst_Name</th>\n",
       "      <th>CASRN</th>\n",
       "      <th>Dup_Name_Flag</th>\n",
       "    </tr>\n",
       "  </thead>\n",
       "  <tbody>\n",
       "    <tr>\n",
       "      <th>3009</th>\n",
       "      <td>Butyric acid</td>\n",
       "      <td>107-92-6</td>\n",
       "      <td>False</td>\n",
       "    </tr>\n",
       "  </tbody>\n",
       "</table>\n",
       "</div>"
      ],
      "text/plain": [
       "        Subst_Name     CASRN  Dup_Name_Flag\n",
       "3009  Butyric acid  107-92-6          False"
      ]
     },
     "execution_count": 69,
     "metadata": {},
     "output_type": "execute_result"
    }
   ],
   "source": [
    "name_CAS_df.loc[name_CAS_df.CASRN == '107-92-6']"
   ]
  },
  {
   "cell_type": "code",
   "execution_count": 70,
   "metadata": {},
   "outputs": [
    {
     "data": {
      "text/html": [
       "<div>\n",
       "<style scoped>\n",
       "    .dataframe tbody tr th:only-of-type {\n",
       "        vertical-align: middle;\n",
       "    }\n",
       "\n",
       "    .dataframe tbody tr th {\n",
       "        vertical-align: top;\n",
       "    }\n",
       "\n",
       "    .dataframe thead th {\n",
       "        text-align: right;\n",
       "    }\n",
       "</style>\n",
       "<table border=\"1\" class=\"dataframe\">\n",
       "  <thead>\n",
       "    <tr style=\"text-align: right;\">\n",
       "      <th></th>\n",
       "      <th>CASRN</th>\n",
       "      <th>Synonym</th>\n",
       "      <th>Dup_Name_Flag</th>\n",
       "    </tr>\n",
       "  </thead>\n",
       "  <tbody>\n",
       "    <tr>\n",
       "      <th>67851</th>\n",
       "      <td>107-92-6</td>\n",
       "      <td>FEMA Number 2221</td>\n",
       "      <td>False</td>\n",
       "    </tr>\n",
       "    <tr>\n",
       "      <th>67852</th>\n",
       "      <td>107-92-6</td>\n",
       "      <td>HSDB 940</td>\n",
       "      <td>False</td>\n",
       "    </tr>\n",
       "    <tr>\n",
       "      <th>67853</th>\n",
       "      <td>107-92-6</td>\n",
       "      <td>Kyselina maselna [Czech]</td>\n",
       "      <td>False</td>\n",
       "    </tr>\n",
       "    <tr>\n",
       "      <th>67860</th>\n",
       "      <td>107-92-6</td>\n",
       "      <td>EC 203-532-3</td>\n",
       "      <td>False</td>\n",
       "    </tr>\n",
       "    <tr>\n",
       "      <th>67854</th>\n",
       "      <td>107-92-6</td>\n",
       "      <td>NSC 8415</td>\n",
       "      <td>False</td>\n",
       "    </tr>\n",
       "    <tr>\n",
       "      <th>67859</th>\n",
       "      <td>107-92-6</td>\n",
       "      <td>UNII-40UIR9Q29H</td>\n",
       "      <td>False</td>\n",
       "    </tr>\n",
       "    <tr>\n",
       "      <th>67856</th>\n",
       "      <td>107-92-6</td>\n",
       "      <td>Propylformic acid</td>\n",
       "      <td>False</td>\n",
       "    </tr>\n",
       "    <tr>\n",
       "      <th>67857</th>\n",
       "      <td>107-92-6</td>\n",
       "      <td>Buttersaeure</td>\n",
       "      <td>False</td>\n",
       "    </tr>\n",
       "    <tr>\n",
       "      <th>67858</th>\n",
       "      <td>107-92-6</td>\n",
       "      <td>Kyselina maselna</td>\n",
       "      <td>False</td>\n",
       "    </tr>\n",
       "    <tr>\n",
       "      <th>67850</th>\n",
       "      <td>107-92-6</td>\n",
       "      <td>FEMA No. 2221</td>\n",
       "      <td>False</td>\n",
       "    </tr>\n",
       "    <tr>\n",
       "      <th>67855</th>\n",
       "      <td>107-92-6</td>\n",
       "      <td>1-Propanecarboxylic acid</td>\n",
       "      <td>False</td>\n",
       "    </tr>\n",
       "    <tr>\n",
       "      <th>67849</th>\n",
       "      <td>107-92-6</td>\n",
       "      <td>Ethylacetic acid</td>\n",
       "      <td>False</td>\n",
       "    </tr>\n",
       "    <tr>\n",
       "      <th>67841</th>\n",
       "      <td>107-92-6</td>\n",
       "      <td>Buttersaeure [German]</td>\n",
       "      <td>False</td>\n",
       "    </tr>\n",
       "    <tr>\n",
       "      <th>67847</th>\n",
       "      <td>107-92-6</td>\n",
       "      <td>CCRIS 6552</td>\n",
       "      <td>False</td>\n",
       "    </tr>\n",
       "    <tr>\n",
       "      <th>67848</th>\n",
       "      <td>107-92-6</td>\n",
       "      <td>EINECS 203-532-3</td>\n",
       "      <td>False</td>\n",
       "    </tr>\n",
       "    <tr>\n",
       "      <th>67835</th>\n",
       "      <td>107-92-6</td>\n",
       "      <td>Butanoic acid</td>\n",
       "      <td>False</td>\n",
       "    </tr>\n",
       "    <tr>\n",
       "      <th>67836</th>\n",
       "      <td>107-92-6</td>\n",
       "      <td>4-02-00-00779 (Beilstein Handbook Reference)</td>\n",
       "      <td>False</td>\n",
       "    </tr>\n",
       "    <tr>\n",
       "      <th>67838</th>\n",
       "      <td>107-92-6</td>\n",
       "      <td>BRN 0906770</td>\n",
       "      <td>False</td>\n",
       "    </tr>\n",
       "    <tr>\n",
       "      <th>67839</th>\n",
       "      <td>107-92-6</td>\n",
       "      <td>Butanic acid</td>\n",
       "      <td>False</td>\n",
       "    </tr>\n",
       "    <tr>\n",
       "      <th>67837</th>\n",
       "      <td>107-92-6</td>\n",
       "      <td>AI3-15306</td>\n",
       "      <td>False</td>\n",
       "    </tr>\n",
       "    <tr>\n",
       "      <th>67842</th>\n",
       "      <td>107-92-6</td>\n",
       "      <td>Butyrate</td>\n",
       "      <td>True</td>\n",
       "    </tr>\n",
       "    <tr>\n",
       "      <th>67844</th>\n",
       "      <td>107-92-6</td>\n",
       "      <td>n-Butyric acid</td>\n",
       "      <td>False</td>\n",
       "    </tr>\n",
       "    <tr>\n",
       "      <th>67845</th>\n",
       "      <td>107-92-6</td>\n",
       "      <td>1-Butyric acid</td>\n",
       "      <td>False</td>\n",
       "    </tr>\n",
       "    <tr>\n",
       "      <th>67846</th>\n",
       "      <td>107-92-6</td>\n",
       "      <td>Butyric acid (natural)</td>\n",
       "      <td>False</td>\n",
       "    </tr>\n",
       "    <tr>\n",
       "      <th>67840</th>\n",
       "      <td>107-92-6</td>\n",
       "      <td>n-Butanoic acid</td>\n",
       "      <td>False</td>\n",
       "    </tr>\n",
       "  </tbody>\n",
       "</table>\n",
       "</div>"
      ],
      "text/plain": [
       "          CASRN                                       Synonym  Dup_Name_Flag\n",
       "67851  107-92-6                              FEMA Number 2221          False\n",
       "67852  107-92-6                                      HSDB 940          False\n",
       "67853  107-92-6                      Kyselina maselna [Czech]          False\n",
       "67860  107-92-6                                  EC 203-532-3          False\n",
       "67854  107-92-6                                      NSC 8415          False\n",
       "67859  107-92-6                               UNII-40UIR9Q29H          False\n",
       "67856  107-92-6                             Propylformic acid          False\n",
       "67857  107-92-6                                  Buttersaeure          False\n",
       "67858  107-92-6                              Kyselina maselna          False\n",
       "67850  107-92-6                                 FEMA No. 2221          False\n",
       "67855  107-92-6                      1-Propanecarboxylic acid          False\n",
       "67849  107-92-6                              Ethylacetic acid          False\n",
       "67841  107-92-6                         Buttersaeure [German]          False\n",
       "67847  107-92-6                                    CCRIS 6552          False\n",
       "67848  107-92-6                              EINECS 203-532-3          False\n",
       "67835  107-92-6                                 Butanoic acid          False\n",
       "67836  107-92-6  4-02-00-00779 (Beilstein Handbook Reference)          False\n",
       "67838  107-92-6                                   BRN 0906770          False\n",
       "67839  107-92-6                                  Butanic acid          False\n",
       "67837  107-92-6                                     AI3-15306          False\n",
       "67842  107-92-6                                      Butyrate           True\n",
       "67844  107-92-6                                n-Butyric acid          False\n",
       "67845  107-92-6                                1-Butyric acid          False\n",
       "67846  107-92-6                        Butyric acid (natural)          False\n",
       "67840  107-92-6                               n-Butanoic acid          False"
      ]
     },
     "execution_count": 70,
     "metadata": {},
     "output_type": "execute_result"
    }
   ],
   "source": [
    "synonyms_df.loc[synonyms_df.CASRN == '107-92-6']"
   ]
  },
  {
   "cell_type": "code",
   "execution_count": 20,
   "metadata": {},
   "outputs": [
    {
     "data": {
      "text/plain": [
       "Series([], Name: Subst_Name, dtype: object)"
      ]
     },
     "execution_count": 20,
     "metadata": {},
     "output_type": "execute_result"
    }
   ],
   "source": [
    "alt_primary_name_df[alt_primary_name_df.CASRN == '100-52-7'].Subst_Name"
   ]
  },
  {
   "cell_type": "code",
   "execution_count": null,
   "metadata": {},
   "outputs": [],
   "source": []
  },
  {
   "cell_type": "markdown",
   "metadata": {},
   "source": [
    "###  Notes"
   ]
  },
  {
   "cell_type": "markdown",
   "metadata": {},
   "source": [
    "Source:  The National Library of Medicine provides the data source ChemIDPlus.  This source provides a monthly update\n",
    "of basic chemical ID information.  It currently lists over 400,000 compounds, and is updated monthly.  Although the main use \n",
    "is for regulatory purposes, it is likely to provide an exhaustive list of solvents.  If making use of this data set, please\n",
    "acknowledge the source and provide the link below to facilitate using the latest version of the data.  "
   ]
  },
  {
   "cell_type": "markdown",
   "metadata": {},
   "source": [
    "The current version of the data is from 03-28-2019.  This script was last executed on:"
   ]
  },
  {
   "cell_type": "code",
   "execution_count": 16,
   "metadata": {},
   "outputs": [
    {
     "name": "stdout",
     "output_type": "stream",
     "text": [
      "2019-04-21 21:58:11.880920\n"
     ]
    }
   ],
   "source": [
    "print(datetime.datetime.now())"
   ]
  },
  {
   "cell_type": "markdown",
   "metadata": {},
   "source": [
    "The URL for the latest ChemIDPlus download is:  ftp://ftp.nlm.nih.gov/nlmdata/.chemidlease/"
   ]
  },
  {
   "cell_type": "markdown",
   "metadata": {},
   "source": [
    "CASRN or CAS Registry Number are registered trademarks of the chemical abstracts service.  Organizations that use this data\n",
    "will need a license from the Chemical Abstracts Service.  The current notebook is for educational purposes only."
   ]
  },
  {
   "cell_type": "code",
   "execution_count": null,
   "metadata": {},
   "outputs": [],
   "source": []
  }
 ],
 "metadata": {
  "kernelspec": {
   "display_name": "Python 3",
   "language": "python",
   "name": "python3"
  },
  "language_info": {
   "codemirror_mode": {
    "name": "ipython",
    "version": 3
   },
   "file_extension": ".py",
   "mimetype": "text/x-python",
   "name": "python",
   "nbconvert_exporter": "python",
   "pygments_lexer": "ipython3",
   "version": "3.7.1"
  }
 },
 "nbformat": 4,
 "nbformat_minor": 2
}

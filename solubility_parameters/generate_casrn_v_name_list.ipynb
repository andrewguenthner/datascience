{
 "cells": [
  {
   "cell_type": "markdown",
   "metadata": {},
   "source": [
    "# Generating a list of chemical names and CAS Registry Numbers"
   ]
  },
  {
   "cell_type": "markdown",
   "metadata": {},
   "source": [
    "Function:  This notebook generates a database table of Chemical Abstract Service Registry Numbers from substance names. \n",
    "Rationale:  The database table allows the CAS Registry Number to be used as an index for subsequent manipulations with \n",
    "solubility parameter data, enabling rapid and unambiguous operations on solvent sets.  Using a large data set now will make the system extensible for widespread use later. Having a custom notebook do this job ensures compatibility and\n",
    "isolates the solubility parameter code from dependency on external sources."
   ]
  },
  {
   "cell_type": "markdown",
   "metadata": {},
   "source": [
    "### Dependencies / Requirements\n",
    "\n",
    "### Libraries\n",
    "* xml (.etree.ElementTree)\n",
    "* sqlalchemy \n",
    "* numpy\n",
    "* pandas\n",
    "\n",
    "### Files\n",
    "* Folders `data_Sources` and `validation` co-located with the notebook.\n",
    "* Within `data_Sources`, a sub-folder named `chemidplus`\n",
    "* Within `chemidplus` an input file named `chemid_latest.xml`\n",
    "* Within `validation` an input file named `hsp_validation.csv`\n",
    "\n",
    "Special note:  due to the large size of the unzipped .xml file, it is not provided in the GitHub source.  Instead,\n",
    "a zipped version is provided on GitHub.  When downloading source code from GitHub, unzip the file and place it in a folder\n",
    "named chemidplus in Data_Sources."
   ]
  },
  {
   "cell_type": "markdown",
   "metadata": {},
   "source": [
    "* Note:  **Input file size is very large -- ~ 1 GB**"
   ]
  },
  {
   "cell_type": "code",
   "execution_count": 1,
   "metadata": {},
   "outputs": [],
   "source": [
    "import datetime\n",
    "import pandas as pd\n",
    "import numpy as np\n",
    "import xml.etree.ElementTree as ET\n",
    "import sqlalchemy \n",
    "# Input file\n",
    "infile = 'data_sources/chemidplus/chemid_latest.xml'\n",
    "validation_file = 'validation/hsp_validation.csv'"
   ]
  },
  {
   "cell_type": "markdown",
   "metadata": {},
   "source": [
    "### Import and Set-Up"
   ]
  },
  {
   "cell_type": "code",
   "execution_count": 2,
   "metadata": {},
   "outputs": [
    {
     "data": {
      "text/plain": [
       "'file'"
      ]
     },
     "execution_count": 2,
     "metadata": {},
     "output_type": "execute_result"
    }
   ],
   "source": [
    "# Fetch the input file and convert it to an XML tree -- root.tag should return\n",
    "# 'file' if this executes correctly -- this step takes some time to execute\n",
    "with open(infile,'r') as f:\n",
    "    tree = ET.parse(infile)\n",
    "root = tree.getroot()\n",
    "root.tag"
   ]
  },
  {
   "cell_type": "code",
   "execution_count": 3,
   "metadata": {},
   "outputs": [
    {
     "data": {
      "text/plain": [
       "420658"
      ]
     },
     "execution_count": 3,
     "metadata": {},
     "output_type": "execute_result"
    }
   ],
   "source": [
    "# FYI, print the number of chemicals in the root -- this should be several hundred k\n",
    "len(root)"
   ]
  },
  {
   "cell_type": "code",
   "execution_count": 4,
   "metadata": {},
   "outputs": [],
   "source": [
    "# To read in the data, we will first make lists\n",
    "# Later, we'll put these in DataFrames to process quickly\n",
    "# For now, just make lists of name, ChemIDPlus-id, CASRN and CASRN, synonym\n",
    "prim_name = []\n",
    "chemid = []\n",
    "casrn = []\n",
    "casrn_syn = []\n",
    "syn = []\n",
    "\n",
    "for substance in range(len(root)):\n",
    "    subst_name = root[substance][0].find('NameOfSubstance')\n",
    "    subst_cas = root[substance][1].find('CASRegistryNumber')\n",
    "    subst_id = root[substance].attrib['id']\n",
    "    \n",
    "    # Skip all list additions if there is not both a main name and CASRN\n",
    "    if subst_name is not None and subst_cas is not None:\n",
    "        prim_name.append(subst_name.text)\n",
    "        chemid.append(subst_id)\n",
    "        casrn.append(subst_cas.text)\n",
    "        \n",
    "        # Check if there is a systematic name\n",
    "        subst_syst = root[substance][0].find('SystematicName')\n",
    "        \n",
    "        # Add it to synonym list if there is\n",
    "        if subst_syst is not None:\n",
    "            casrn_syn.append(subst_cas.text)\n",
    "            syn.append(subst_syst.text)\n",
    "            \n",
    "        # Check if there are synonyms\n",
    "        subst_syn = root[substance][0].findall('Synonyms')\n",
    "        \n",
    "        # Add if there are any ...\n",
    "        if len(subst_syn) != 0:\n",
    "            for synonym in subst_syn:\n",
    "                casrn_syn.append(subst_cas.text)\n",
    "                syn.append(synonym.text)\n",
    "        "
   ]
  },
  {
   "cell_type": "code",
   "execution_count": 5,
   "metadata": {},
   "outputs": [],
   "source": [
    "# Now, convert lists to DataFrames for further processing\n",
    "name_CAS_df = pd.DataFrame({'Subst_Name':prim_name,'CASRN':casrn, 'id':chemid})\n",
    "synonyms_df = pd.DataFrame({'CASRN':casrn_syn,'Synonym':syn})"
   ]
  },
  {
   "cell_type": "code",
   "execution_count": 6,
   "metadata": {},
   "outputs": [
    {
     "name": "stdout",
     "output_type": "stream",
     "text": [
      "name_CAS has 120692 rows with 119838 unique names.\n",
      "name_CAS has 120692 unique CAS Registry Numbers.\n",
      "Synonyms table has 706245 rows with 690191 synonyms.\n"
     ]
    }
   ],
   "source": [
    "# Get some DataFrame info on length and unique values\n",
    "print (f'name_CAS has {len(name_CAS_df)} rows with {name_CAS_df.Subst_Name.nunique()} unique names.')\n",
    "print (f'name_CAS has {name_CAS_df.CASRN.nunique()} unique CAS Registry Numbers.')\n",
    "print (f'Synonyms table has {len(synonyms_df)} rows with {synonyms_df.Synonym.nunique()} synonyms.')"
   ]
  },
  {
   "cell_type": "markdown",
   "metadata": {},
   "source": [
    "### Data Processing\n",
    "\n",
    "What you should see is no duplicate CAS Registry Numbers, some duplicated names, and quite a few duplicated synonyms...\n",
    "The following cells take care of the easy stuff ... "
   ]
  },
  {
   "cell_type": "code",
   "execution_count": 7,
   "metadata": {},
   "outputs": [],
   "source": [
    "# Drop cases where name, CAS pairs are duplicates -- there should not be any to start with\n",
    "# but just in case there are, ths is a quick way that would fix it\n",
    "name_CAS_df.drop_duplicates(inplace = True)\n",
    "# For the synonyms column, drop duplicated CASRN, synonym pairs -- this usually represents a majority of cases\n",
    "synonyms_df.drop_duplicates(inplace = True)"
   ]
  },
  {
   "cell_type": "code",
   "execution_count": 8,
   "metadata": {},
   "outputs": [],
   "source": [
    "# Drop any rows of the Synonyms where the Synonym, CASRN pair is the same as a name, CASRN pair\n",
    "synonyms_df = synonyms_df.merge(name_CAS_df, left_on = ['Synonym','CASRN'], right_on = ['Subst_Name','CASRN'], \n",
    "                                how='left', indicator=True).query('_merge == \"left_only\"').drop('_merge', 1)\n",
    "# This operation produces an extra column in synonyms_df that needs deletion\n",
    "synonyms_df = synonyms_df.drop(columns = 'Subst_Name')"
   ]
  },
  {
   "cell_type": "code",
   "execution_count": 9,
   "metadata": {},
   "outputs": [
    {
     "name": "stdout",
     "output_type": "stream",
     "text": [
      "name_CAS has 120692 rows with 119838 unique names.\n",
      "name_CAS has 120692 unique CAS Registry Numbers.\n",
      "Synonyms table has 643629 rows with 638199 synonyms.\n"
     ]
    }
   ],
   "source": [
    "# Now check the results ...\n",
    "print (f'name_CAS has {len(name_CAS_df)} rows with {name_CAS_df.Subst_Name.nunique()} unique names.')\n",
    "print (f'name_CAS has {name_CAS_df.CASRN.nunique()} unique CAS Registry Numbers.')\n",
    "print (f'Synonyms table has {len(synonyms_df)} rows with {synonyms_df.Synonym.nunique()} synonyms.')"
   ]
  },
  {
   "cell_type": "markdown",
   "metadata": {},
   "source": [
    "To tackle ambiguous entries, we will make use of the fact that CAS Registry Numbers reflect the order of entry,\n",
    "thus the more \"common\" compound is entered first.  We will assign a CAS priority number, sort on this, and \n",
    "only keep the duplicate with the lower number in the primary name table.  We will take the alternates to a separate\n",
    "table for later use."
   ]
  },
  {
   "cell_type": "code",
   "execution_count": 10,
   "metadata": {},
   "outputs": [],
   "source": [
    "# Parse the CAS Registry Number -- the last digit is a checksum and can be dropped\n",
    "name_CAS_df['CASRank'] = name_CAS_df.CASRN.str.split('-',3).apply(lambda x : x[0]).astype('int') * 100 \\\n",
    "                      + name_CAS_df.CASRN.str.split('-',3).apply(lambda x : x[1]).astype('int')\n",
    "# Sort by this rank -- the source data is typically sorted already\n",
    "name_CAS_df = name_CAS_df.sort_values(by='CASRank')\n",
    "# Now create duplicate flags\n",
    "name_CAS_df['Dup_Name_Flag'] = name_CAS_df.duplicated('Subst_Name',keep = False)\n",
    "# Drop the rank columns as is it no longer needed\n",
    "name_CAS_df = name_CAS_df.drop(columns='CASRank')"
   ]
  },
  {
   "cell_type": "code",
   "execution_count": 11,
   "metadata": {},
   "outputs": [],
   "source": [
    "# First grab the duplicates \n",
    "alt_primary_name_df = name_CAS_df[name_CAS_df.duplicated('Subst_Name')]\n",
    "# Now they can be safely dropped from the main table\n",
    "name_CAS_df = name_CAS_df.drop_duplicates('Subst_Name')"
   ]
  },
  {
   "cell_type": "code",
   "execution_count": 12,
   "metadata": {
    "scrolled": true
   },
   "outputs": [
    {
     "name": "stdout",
     "output_type": "stream",
     "text": [
      "name_CAS has 119838 rows with 119838 unique names.\n",
      "name_CAS has 119838 unique CAS Registry Numbers.\n",
      "Synonyms table has 643629 rows with 638199 synonyms.\n"
     ]
    }
   ],
   "source": [
    "# Now check the results ...\n",
    "print (f'name_CAS has {len(name_CAS_df)} rows with {name_CAS_df.Subst_Name.nunique()} unique names.')\n",
    "print (f'name_CAS has {name_CAS_df.CASRN.nunique()} unique CAS Registry Numbers.')\n",
    "print (f'Synonyms table has {len(synonyms_df)} rows with {synonyms_df.Synonym.nunique()} synonyms.')"
   ]
  },
  {
   "cell_type": "code",
   "execution_count": 13,
   "metadata": {},
   "outputs": [
    {
     "name": "stdout",
     "output_type": "stream",
     "text": [
      "name_CAS has 119838 rows with 119838 unique names.\n",
      "name_CAS has 119838 unique CAS Registry Numbers.\n",
      "Synonyms table has 638199 rows with 638199 synonyms.\n"
     ]
    }
   ],
   "source": [
    "# Do for the synonyms table what was done for the name_CASRN table\n",
    "# Parse the CAS Registry Number \n",
    "synonyms_df['CASRank'] = synonyms_df.CASRN.str.split('-',3).apply(lambda x : x[0]).astype('int') * 100 \\\n",
    "                      + synonyms_df.CASRN.str.split('-',3).apply(lambda x : x[1]).astype('int')\n",
    "# Sort by this rank -- the source data is typically sorted already\n",
    "synonyms_df = synonyms_df.sort_values(by='CASRank')\n",
    "# Now create duplicate flags\n",
    "synonyms_df['Dup_Name_Flag'] = synonyms_df.duplicated('Synonym',keep = False)\n",
    "# Drop the rank columns as is it no longer needed\n",
    "synonyms_df = synonyms_df.drop(columns='CASRank')\n",
    "\n",
    "# First grab the duplicates \n",
    "alt_synonyms_df = synonyms_df[synonyms_df.duplicated('Synonym')]\n",
    "# Now they can be safely dropped from the main table\n",
    "synonyms_df = synonyms_df.drop_duplicates('Synonym')\n",
    "\n",
    "# Now check the results ...\n",
    "print (f'name_CAS has {len(name_CAS_df)} rows with {name_CAS_df.Subst_Name.nunique()} unique names.')\n",
    "print (f'name_CAS has {name_CAS_df.CASRN.nunique()} unique CAS Registry Numbers.')\n",
    "print (f'Synonyms table has {len(synonyms_df)} rows with {synonyms_df.Synonym.nunique()} synonyms.')"
   ]
  },
  {
   "cell_type": "code",
   "execution_count": 14,
   "metadata": {},
   "outputs": [],
   "source": [
    "# Lastly, we are going to hand-craft some entries for the sake of useability.\n",
    "# 1) \"NMP\" refers to the less common pyrrolidine rather than the more common pyrrolidinone, this is an accident\n",
    "# of history due to the relatively recent widespread use of NMP.  This is common enough that it will certainly\n",
    "# impact useability, so it will be corrected via hard-coding.  \n",
    "synonyms_df.loc[synonyms_df.Synonym == 'NMP','CASRN'] = '872-50-4'\n",
    "alt_synonyms_df.loc[alt_synonyms_df.Synonym == 'NMP','CASRN'] = '120-94-5'\n",
    "# Other cases where common abbreviations reference correctly can be handled by the 'extra_synonyms' table."
   ]
  },
  {
   "cell_type": "markdown",
   "metadata": {},
   "source": [
    "### Data Validation\n",
    "For validation, the CAS Registry Numbers are checked against names and synonyms from a known solvent set.  The default set\n",
    "is a list of 145 of the most commonly used solvents  for Hansen Solubility Parameter determination, based on Hansen's key experimental work.  Custom validations can be added by placing the name and CAS Registry Number into the `hsp_validation.csv` file.\n",
    "\n",
    "These hand-curated validations come from Sigma-Aldrich catalogs, Wikipedia, PubMed, and other on-line sources.  In all cases,\n",
    "at least two sources were checked to validate the CAS Registry Number in the table."
   ]
  },
  {
   "cell_type": "markdown",
   "metadata": {},
   "source": [
    "The substances included in this list are those found in bold in Table A1 of Source 1 (Hansen's 2007 book), excluding salts, carbon dioxide, carbon disulfide, carbon tetrachloride, urea, and water (these have disputed HSP values), as well as complex mixtures such as Dupont dibasic esters, and a few compounds (listed under notes) that do not appear in the National Library of Medicine database."
   ]
  },
  {
   "cell_type": "code",
   "execution_count": 17,
   "metadata": {},
   "outputs": [
    {
     "data": {
      "text/html": [
       "<div>\n",
       "<style scoped>\n",
       "    .dataframe tbody tr th:only-of-type {\n",
       "        vertical-align: middle;\n",
       "    }\n",
       "\n",
       "    .dataframe tbody tr th {\n",
       "        vertical-align: top;\n",
       "    }\n",
       "\n",
       "    .dataframe thead th {\n",
       "        text-align: right;\n",
       "    }\n",
       "</style>\n",
       "<table border=\"1\" class=\"dataframe\">\n",
       "  <thead>\n",
       "    <tr style=\"text-align: right;\">\n",
       "      <th></th>\n",
       "      <th>subst_name</th>\n",
       "      <th>synonym</th>\n",
       "      <th>casrn</th>\n",
       "      <th>delta-d</th>\n",
       "      <th>delta-p</th>\n",
       "      <th>delta-h</th>\n",
       "      <th>mol-vol</th>\n",
       "      <th>source_id</th>\n",
       "      <th>source_ref</th>\n",
       "    </tr>\n",
       "  </thead>\n",
       "  <tbody>\n",
       "    <tr>\n",
       "      <th>0</th>\n",
       "      <td>Acetic acid</td>\n",
       "      <td>Ethanoic acid</td>\n",
       "      <td>64-19-7</td>\n",
       "      <td>14.5</td>\n",
       "      <td>8.0</td>\n",
       "      <td>13.5</td>\n",
       "      <td>57.1</td>\n",
       "      <td>1</td>\n",
       "      <td>A1.5</td>\n",
       "    </tr>\n",
       "    <tr>\n",
       "      <th>1</th>\n",
       "      <td>Acetic anhydride</td>\n",
       "      <td>Acetyl acetate</td>\n",
       "      <td>108-24-7</td>\n",
       "      <td>16.0</td>\n",
       "      <td>11.7</td>\n",
       "      <td>10.2</td>\n",
       "      <td>94.5</td>\n",
       "      <td>1</td>\n",
       "      <td>A1.6</td>\n",
       "    </tr>\n",
       "    <tr>\n",
       "      <th>2</th>\n",
       "      <td>Acetone</td>\n",
       "      <td>Dimethyl ketone</td>\n",
       "      <td>67-64-1</td>\n",
       "      <td>15.5</td>\n",
       "      <td>10.4</td>\n",
       "      <td>7.0</td>\n",
       "      <td>74.0</td>\n",
       "      <td>1</td>\n",
       "      <td>A1.7</td>\n",
       "    </tr>\n",
       "    <tr>\n",
       "      <th>3</th>\n",
       "      <td>Acetonitrile</td>\n",
       "      <td>Methyl cyanide</td>\n",
       "      <td>75-05-8</td>\n",
       "      <td>15.3</td>\n",
       "      <td>18.0</td>\n",
       "      <td>6.1</td>\n",
       "      <td>52.6</td>\n",
       "      <td>1</td>\n",
       "      <td>A1.10</td>\n",
       "    </tr>\n",
       "    <tr>\n",
       "      <th>4</th>\n",
       "      <td>Acetophenone</td>\n",
       "      <td>Acetylbenzene</td>\n",
       "      <td>98-86-2</td>\n",
       "      <td>19.6</td>\n",
       "      <td>8.6</td>\n",
       "      <td>3.7</td>\n",
       "      <td>117.4</td>\n",
       "      <td>1</td>\n",
       "      <td>A1.11</td>\n",
       "    </tr>\n",
       "  </tbody>\n",
       "</table>\n",
       "</div>"
      ],
      "text/plain": [
       "         subst_name          synonym     casrn  delta-d  delta-p  delta-h  \\\n",
       "0       Acetic acid    Ethanoic acid   64-19-7     14.5      8.0     13.5   \n",
       "1  Acetic anhydride   Acetyl acetate  108-24-7     16.0     11.7     10.2   \n",
       "2           Acetone  Dimethyl ketone   67-64-1     15.5     10.4      7.0   \n",
       "3      Acetonitrile   Methyl cyanide   75-05-8     15.3     18.0      6.1   \n",
       "4      Acetophenone    Acetylbenzene   98-86-2     19.6      8.6      3.7   \n",
       "\n",
       "   mol-vol  source_id source_ref  \n",
       "0     57.1          1       A1.5  \n",
       "1     94.5          1       A1.6  \n",
       "2     74.0          1       A1.7  \n",
       "3     52.6          1      A1.10  \n",
       "4    117.4          1      A1.11  "
      ]
     },
     "execution_count": 17,
     "metadata": {},
     "output_type": "execute_result"
    }
   ],
   "source": [
    "# Read file into DataFrame\n",
    "validate_df = pd.read_csv(validation_file)\n",
    "length_check = len(validate_df)\n",
    "validate_df.head()"
   ]
  },
  {
   "cell_type": "code",
   "execution_count": 18,
   "metadata": {},
   "outputs": [
    {
     "data": {
      "text/html": [
       "<div>\n",
       "<style scoped>\n",
       "    .dataframe tbody tr th:only-of-type {\n",
       "        vertical-align: middle;\n",
       "    }\n",
       "\n",
       "    .dataframe tbody tr th {\n",
       "        vertical-align: top;\n",
       "    }\n",
       "\n",
       "    .dataframe thead th {\n",
       "        text-align: right;\n",
       "    }\n",
       "</style>\n",
       "<table border=\"1\" class=\"dataframe\">\n",
       "  <thead>\n",
       "    <tr style=\"text-align: right;\">\n",
       "      <th></th>\n",
       "      <th>subst_name</th>\n",
       "      <th>synonym</th>\n",
       "      <th>casrn</th>\n",
       "      <th>delta-d</th>\n",
       "      <th>delta-p</th>\n",
       "      <th>delta-h</th>\n",
       "      <th>mol-vol</th>\n",
       "      <th>source_id</th>\n",
       "      <th>source_ref</th>\n",
       "      <th>Subst_Name</th>\n",
       "      <th>CASRN</th>\n",
       "      <th>id</th>\n",
       "      <th>Dup_Name_Flag</th>\n",
       "    </tr>\n",
       "  </thead>\n",
       "  <tbody>\n",
       "    <tr>\n",
       "      <th>0</th>\n",
       "      <td>Acetic acid</td>\n",
       "      <td>Ethanoic acid</td>\n",
       "      <td>64-19-7</td>\n",
       "      <td>14.5</td>\n",
       "      <td>8.0</td>\n",
       "      <td>13.5</td>\n",
       "      <td>57.1</td>\n",
       "      <td>1</td>\n",
       "      <td>A1.5</td>\n",
       "      <td>Acetic acid</td>\n",
       "      <td>64-19-7</td>\n",
       "      <td>0000064197</td>\n",
       "      <td>False</td>\n",
       "    </tr>\n",
       "    <tr>\n",
       "      <th>1</th>\n",
       "      <td>Acetic anhydride</td>\n",
       "      <td>Acetyl acetate</td>\n",
       "      <td>108-24-7</td>\n",
       "      <td>16.0</td>\n",
       "      <td>11.7</td>\n",
       "      <td>10.2</td>\n",
       "      <td>94.5</td>\n",
       "      <td>1</td>\n",
       "      <td>A1.6</td>\n",
       "      <td>Acetic anhydride</td>\n",
       "      <td>108-24-7</td>\n",
       "      <td>0000108247</td>\n",
       "      <td>False</td>\n",
       "    </tr>\n",
       "    <tr>\n",
       "      <th>2</th>\n",
       "      <td>Acetone</td>\n",
       "      <td>Dimethyl ketone</td>\n",
       "      <td>67-64-1</td>\n",
       "      <td>15.5</td>\n",
       "      <td>10.4</td>\n",
       "      <td>7.0</td>\n",
       "      <td>74.0</td>\n",
       "      <td>1</td>\n",
       "      <td>A1.7</td>\n",
       "      <td>Acetone</td>\n",
       "      <td>67-64-1</td>\n",
       "      <td>0000067641</td>\n",
       "      <td>False</td>\n",
       "    </tr>\n",
       "    <tr>\n",
       "      <th>3</th>\n",
       "      <td>Acetonitrile</td>\n",
       "      <td>Methyl cyanide</td>\n",
       "      <td>75-05-8</td>\n",
       "      <td>15.3</td>\n",
       "      <td>18.0</td>\n",
       "      <td>6.1</td>\n",
       "      <td>52.6</td>\n",
       "      <td>1</td>\n",
       "      <td>A1.10</td>\n",
       "      <td>Acetonitrile</td>\n",
       "      <td>75-05-8</td>\n",
       "      <td>0000075058</td>\n",
       "      <td>False</td>\n",
       "    </tr>\n",
       "    <tr>\n",
       "      <th>4</th>\n",
       "      <td>Acetophenone</td>\n",
       "      <td>Acetylbenzene</td>\n",
       "      <td>98-86-2</td>\n",
       "      <td>19.6</td>\n",
       "      <td>8.6</td>\n",
       "      <td>3.7</td>\n",
       "      <td>117.4</td>\n",
       "      <td>1</td>\n",
       "      <td>A1.11</td>\n",
       "      <td>Acetophenone</td>\n",
       "      <td>98-86-2</td>\n",
       "      <td>0000098862</td>\n",
       "      <td>False</td>\n",
       "    </tr>\n",
       "  </tbody>\n",
       "</table>\n",
       "</div>"
      ],
      "text/plain": [
       "         subst_name          synonym     casrn  delta-d  delta-p  delta-h  \\\n",
       "0       Acetic acid    Ethanoic acid   64-19-7     14.5      8.0     13.5   \n",
       "1  Acetic anhydride   Acetyl acetate  108-24-7     16.0     11.7     10.2   \n",
       "2           Acetone  Dimethyl ketone   67-64-1     15.5     10.4      7.0   \n",
       "3      Acetonitrile   Methyl cyanide   75-05-8     15.3     18.0      6.1   \n",
       "4      Acetophenone    Acetylbenzene   98-86-2     19.6      8.6      3.7   \n",
       "\n",
       "   mol-vol  source_id source_ref        Subst_Name     CASRN          id  \\\n",
       "0     57.1          1       A1.5       Acetic acid   64-19-7  0000064197   \n",
       "1     94.5          1       A1.6  Acetic anhydride  108-24-7  0000108247   \n",
       "2     74.0          1       A1.7           Acetone   67-64-1  0000067641   \n",
       "3     52.6          1      A1.10      Acetonitrile   75-05-8  0000075058   \n",
       "4    117.4          1      A1.11      Acetophenone   98-86-2  0000098862   \n",
       "\n",
       "   Dup_Name_Flag  \n",
       "0          False  \n",
       "1          False  \n",
       "2          False  \n",
       "3          False  \n",
       "4          False  "
      ]
     },
     "execution_count": 18,
     "metadata": {},
     "output_type": "execute_result"
    }
   ],
   "source": [
    "#Inner join on casrn should not produce new rows\n",
    "validate_df = validate_df.merge(name_CAS_df,left_on='casrn',right_on='CASRN')\n",
    "validate_df.head()"
   ]
  },
  {
   "cell_type": "code",
   "execution_count": 19,
   "metadata": {},
   "outputs": [
    {
     "data": {
      "text/plain": [
       "0"
      ]
     },
     "execution_count": 19,
     "metadata": {},
     "output_type": "execute_result"
    }
   ],
   "source": [
    "# Test for any mismatch of substnce name\n",
    "mismatch_df = validate_df.loc[validate_df['subst_name'] != validate_df['Subst_Name']]\n",
    "len(mismatch_df)"
   ]
  },
  {
   "cell_type": "code",
   "execution_count": 20,
   "metadata": {},
   "outputs": [
    {
     "data": {
      "text/html": [
       "<div>\n",
       "<style scoped>\n",
       "    .dataframe tbody tr th:only-of-type {\n",
       "        vertical-align: middle;\n",
       "    }\n",
       "\n",
       "    .dataframe tbody tr th {\n",
       "        vertical-align: top;\n",
       "    }\n",
       "\n",
       "    .dataframe thead th {\n",
       "        text-align: right;\n",
       "    }\n",
       "</style>\n",
       "<table border=\"1\" class=\"dataframe\">\n",
       "  <thead>\n",
       "    <tr style=\"text-align: right;\">\n",
       "      <th></th>\n",
       "      <th>subst_name</th>\n",
       "      <th>synonym</th>\n",
       "      <th>casrn</th>\n",
       "      <th>delta-d</th>\n",
       "      <th>delta-p</th>\n",
       "      <th>delta-h</th>\n",
       "      <th>mol-vol</th>\n",
       "      <th>source_id</th>\n",
       "      <th>source_ref</th>\n",
       "      <th>Subst_Name</th>\n",
       "      <th>CASRN_x</th>\n",
       "      <th>id_x</th>\n",
       "      <th>Dup_Name_Flag_x</th>\n",
       "      <th>CASRN_y</th>\n",
       "      <th>Synonym</th>\n",
       "      <th>id_y</th>\n",
       "      <th>Dup_Name_Flag_y</th>\n",
       "    </tr>\n",
       "  </thead>\n",
       "  <tbody>\n",
       "    <tr>\n",
       "      <th>0</th>\n",
       "      <td>Acetic acid</td>\n",
       "      <td>Ethanoic acid</td>\n",
       "      <td>64-19-7</td>\n",
       "      <td>14.5</td>\n",
       "      <td>8.0</td>\n",
       "      <td>13.5</td>\n",
       "      <td>57.1</td>\n",
       "      <td>1</td>\n",
       "      <td>A1.5</td>\n",
       "      <td>Acetic acid</td>\n",
       "      <td>64-19-7</td>\n",
       "      <td>0000064197</td>\n",
       "      <td>False</td>\n",
       "      <td>64-19-7</td>\n",
       "      <td>Ethanoic acid</td>\n",
       "      <td>NaN</td>\n",
       "      <td>False</td>\n",
       "    </tr>\n",
       "    <tr>\n",
       "      <th>1</th>\n",
       "      <td>Acetic anhydride</td>\n",
       "      <td>Acetyl acetate</td>\n",
       "      <td>108-24-7</td>\n",
       "      <td>16.0</td>\n",
       "      <td>11.7</td>\n",
       "      <td>10.2</td>\n",
       "      <td>94.5</td>\n",
       "      <td>1</td>\n",
       "      <td>A1.6</td>\n",
       "      <td>Acetic anhydride</td>\n",
       "      <td>108-24-7</td>\n",
       "      <td>0000108247</td>\n",
       "      <td>False</td>\n",
       "      <td>108-24-7</td>\n",
       "      <td>Acetyl acetate</td>\n",
       "      <td>NaN</td>\n",
       "      <td>False</td>\n",
       "    </tr>\n",
       "    <tr>\n",
       "      <th>2</th>\n",
       "      <td>Acetone</td>\n",
       "      <td>Dimethyl ketone</td>\n",
       "      <td>67-64-1</td>\n",
       "      <td>15.5</td>\n",
       "      <td>10.4</td>\n",
       "      <td>7.0</td>\n",
       "      <td>74.0</td>\n",
       "      <td>1</td>\n",
       "      <td>A1.7</td>\n",
       "      <td>Acetone</td>\n",
       "      <td>67-64-1</td>\n",
       "      <td>0000067641</td>\n",
       "      <td>False</td>\n",
       "      <td>67-64-1</td>\n",
       "      <td>Dimethyl ketone</td>\n",
       "      <td>NaN</td>\n",
       "      <td>False</td>\n",
       "    </tr>\n",
       "    <tr>\n",
       "      <th>3</th>\n",
       "      <td>Acetonitrile</td>\n",
       "      <td>Methyl cyanide</td>\n",
       "      <td>75-05-8</td>\n",
       "      <td>15.3</td>\n",
       "      <td>18.0</td>\n",
       "      <td>6.1</td>\n",
       "      <td>52.6</td>\n",
       "      <td>1</td>\n",
       "      <td>A1.10</td>\n",
       "      <td>Acetonitrile</td>\n",
       "      <td>75-05-8</td>\n",
       "      <td>0000075058</td>\n",
       "      <td>False</td>\n",
       "      <td>75-05-8</td>\n",
       "      <td>Methyl cyanide</td>\n",
       "      <td>NaN</td>\n",
       "      <td>False</td>\n",
       "    </tr>\n",
       "    <tr>\n",
       "      <th>4</th>\n",
       "      <td>Acetophenone</td>\n",
       "      <td>Acetylbenzene</td>\n",
       "      <td>98-86-2</td>\n",
       "      <td>19.6</td>\n",
       "      <td>8.6</td>\n",
       "      <td>3.7</td>\n",
       "      <td>117.4</td>\n",
       "      <td>1</td>\n",
       "      <td>A1.11</td>\n",
       "      <td>Acetophenone</td>\n",
       "      <td>98-86-2</td>\n",
       "      <td>0000098862</td>\n",
       "      <td>False</td>\n",
       "      <td>98-86-2</td>\n",
       "      <td>Acetylbenzene</td>\n",
       "      <td>NaN</td>\n",
       "      <td>False</td>\n",
       "    </tr>\n",
       "  </tbody>\n",
       "</table>\n",
       "</div>"
      ],
      "text/plain": [
       "         subst_name          synonym     casrn  delta-d  delta-p  delta-h  \\\n",
       "0       Acetic acid    Ethanoic acid   64-19-7     14.5      8.0     13.5   \n",
       "1  Acetic anhydride   Acetyl acetate  108-24-7     16.0     11.7     10.2   \n",
       "2           Acetone  Dimethyl ketone   67-64-1     15.5     10.4      7.0   \n",
       "3      Acetonitrile   Methyl cyanide   75-05-8     15.3     18.0      6.1   \n",
       "4      Acetophenone    Acetylbenzene   98-86-2     19.6      8.6      3.7   \n",
       "\n",
       "   mol-vol  source_id source_ref        Subst_Name   CASRN_x        id_x  \\\n",
       "0     57.1          1       A1.5       Acetic acid   64-19-7  0000064197   \n",
       "1     94.5          1       A1.6  Acetic anhydride  108-24-7  0000108247   \n",
       "2     74.0          1       A1.7           Acetone   67-64-1  0000067641   \n",
       "3     52.6          1      A1.10      Acetonitrile   75-05-8  0000075058   \n",
       "4    117.4          1      A1.11      Acetophenone   98-86-2  0000098862   \n",
       "\n",
       "   Dup_Name_Flag_x   CASRN_y          Synonym id_y  Dup_Name_Flag_y  \n",
       "0            False   64-19-7    Ethanoic acid  NaN            False  \n",
       "1            False  108-24-7   Acetyl acetate  NaN            False  \n",
       "2            False   67-64-1  Dimethyl ketone  NaN            False  \n",
       "3            False   75-05-8   Methyl cyanide  NaN            False  \n",
       "4            False   98-86-2    Acetylbenzene  NaN            False  "
      ]
     },
     "execution_count": 20,
     "metadata": {},
     "output_type": "execute_result"
    }
   ],
   "source": [
    "# Now merge synonyms and test for difference in cas\n",
    "validate_df = validate_df.merge(synonyms_df,left_on='synonym',right_on='Synonym')\n",
    "validate_df.head()"
   ]
  },
  {
   "cell_type": "code",
   "execution_count": 21,
   "metadata": {
    "scrolled": true
   },
   "outputs": [
    {
     "data": {
      "text/plain": [
       "0"
      ]
     },
     "execution_count": 21,
     "metadata": {},
     "output_type": "execute_result"
    }
   ],
   "source": [
    "mistmatch_df = validate_df.loc[validate_df['casrn'] != validate_df['CASRN_y']]\n",
    "len(mismatch_df)"
   ]
  },
  {
   "cell_type": "markdown",
   "metadata": {},
   "source": [
    "If the length of 'mismatch_df' is zero in both tests above, then for each validation case, the substance name, chosen synonym name, and CAS reference number all match, which means that in the vast majority of use cases the substance is guaranteed to be identified correctly.  The use of the National Library of Medicine provides a second layer of protection against erroneous data, as this database is actively maintained."
   ]
  },
  {
   "cell_type": "markdown",
   "metadata": {},
   "source": [
    "**Some special cases among the validations:**\n",
    "\n",
    "In Hansen's book, \"dioctyl adipate\",  \"dioctyl phthalate\", and \"trioctyl phosphate\" are shown to refer to the n-octyl functional forms, but industrially, the structure is in fact the ethylhexyl form.  The NLM database assumes that \"dioctyl\" in these cases is a synonym for either.  The ambiguous name convention used for this database causes it to refer to the ehtyl hexyl form preferentially, which is almost certainly what users would want.  Given that Hansen's info for these compounds also states that they are commercial, I assume that the ethylhexyl forms were the ones measured.\n",
    "\n",
    "\"Dipropylene glycol\" and \"Dipropylene glycol methyl ether\" are shown as a single chemical substance but labeled as commercial.  The commercial solvents are mixtures, and therefore the CAS Reference Number of the mixture is used in these cases.  The introduction to the tables in Hansen's book clearly states that items labeled as commercial may be mixtures, so this assumption is almost certainly valid, and it would be what users would expect.\n",
    "\n",
    "\"Ethyl lactate\" is enantiomeric.  Hansen's table does not specify which form was used, but racemic is the most common and therefore was picked.  \n",
    "\n",
    "Some of the glycol ethers in the Hansen book are not in the National Library of Medicine database, including ethylene glycol butyl ethyl ether, ethylene glycol methyl t-butyl ether, ethylene glycol di-t-butyl ether, ethylene glycol mono t-butyl ether, ethylene glycol monoisobutyl ether, and diethylene glycol methyl t-butyl ether.  Hexafluorohexanol is not in the NLM database and is thus excluded."
   ]
  },
  {
   "cell_type": "markdown",
   "metadata": {},
   "source": [
    "### Prepare Lists for SMILES Generation"
   ]
  },
  {
   "cell_type": "markdown",
   "metadata": {},
   "source": [
    "Priority #1 will be the validation set."
   ]
  },
  {
   "cell_type": "code",
   "execution_count": 23,
   "metadata": {},
   "outputs": [],
   "source": [
    "# We want just a comma separated list for all the ChemIDPlus id's for use with PubChem\n",
    "# The ChemIDPlus id has already been merged in as id_x, so we just write it to csv\n",
    "validate_df.id_x.to_csv('validate_casrns.csv',index=False,header=False)"
   ]
  },
  {
   "cell_type": "markdown",
   "metadata": {},
   "source": [
    "Next do some different-sized test runs.  Use CAS # for priority (lower will tend to be a more common compound)."
   ]
  },
  {
   "cell_type": "code",
   "execution_count": 25,
   "metadata": {},
   "outputs": [],
   "source": [
    "name_1000_df = name_CAS_df.iloc[:1000,:]\n",
    "name_1000_df.id.to_csv('first_1000_names.csv',index=False,header=False)"
   ]
  },
  {
   "cell_type": "code",
   "execution_count": null,
   "metadata": {},
   "outputs": [],
   "source": []
  },
  {
   "cell_type": "markdown",
   "metadata": {},
   "source": [
    "###  Notes"
   ]
  },
  {
   "cell_type": "markdown",
   "metadata": {},
   "source": [
    "Source:  The National Library of Medicine provides the data source ChemIDPlus.  This source provides a monthly update\n",
    "of basic chemical ID information.  It currently lists over 400,000 compounds, and is updated monthly.  Although the main use \n",
    "is for regulatory purposes, it is likely to provide an exhaustive list of solvents.  If making use of this data set, please\n",
    "acknowledge the source and provide the link below to facilitate using the latest version of the data.  "
   ]
  },
  {
   "cell_type": "markdown",
   "metadata": {},
   "source": [
    "The current version of the data is from 03-28-2019.  This script was last executed on:"
   ]
  },
  {
   "cell_type": "code",
   "execution_count": 20,
   "metadata": {},
   "outputs": [
    {
     "name": "stdout",
     "output_type": "stream",
     "text": [
      "2019-07-05 19:49:58.002320\n"
     ]
    }
   ],
   "source": [
    "print(datetime.datetime.now())"
   ]
  },
  {
   "cell_type": "markdown",
   "metadata": {},
   "source": [
    "The URL for the latest ChemIDPlus download is:  ftp://ftp.nlm.nih.gov/nlmdata/.chemidlease/"
   ]
  },
  {
   "cell_type": "markdown",
   "metadata": {},
   "source": [
    "CASRN or CAS Registry Number are registered trademarks of the chemical abstracts service.  Organizations that use this data\n",
    "will need a license from the Chemical Abstracts Service.  The current notebook is for educational purposes only."
   ]
  },
  {
   "cell_type": "code",
   "execution_count": 16,
   "metadata": {},
   "outputs": [
    {
     "data": {
      "text/html": [
       "<div>\n",
       "<style scoped>\n",
       "    .dataframe tbody tr th:only-of-type {\n",
       "        vertical-align: middle;\n",
       "    }\n",
       "\n",
       "    .dataframe tbody tr th {\n",
       "        vertical-align: top;\n",
       "    }\n",
       "\n",
       "    .dataframe thead th {\n",
       "        text-align: right;\n",
       "    }\n",
       "</style>\n",
       "<table border=\"1\" class=\"dataframe\">\n",
       "  <thead>\n",
       "    <tr style=\"text-align: right;\">\n",
       "      <th></th>\n",
       "      <th>Subst_Name</th>\n",
       "      <th>CASRN</th>\n",
       "      <th>id</th>\n",
       "      <th>Dup_Name_Flag</th>\n",
       "    </tr>\n",
       "  </thead>\n",
       "  <tbody>\n",
       "    <tr>\n",
       "      <th>0</th>\n",
       "      <td>Monobutyl phthalate</td>\n",
       "      <td>34-74-2</td>\n",
       "      <td>0000034742</td>\n",
       "      <td>True</td>\n",
       "    </tr>\n",
       "    <tr>\n",
       "      <th>1</th>\n",
       "      <td>Dimethyltubocurarine</td>\n",
       "      <td>35-67-6</td>\n",
       "      <td>0000035676</td>\n",
       "      <td>False</td>\n",
       "    </tr>\n",
       "    <tr>\n",
       "      <th>2</th>\n",
       "      <td>Carotenoids</td>\n",
       "      <td>36-88-4</td>\n",
       "      <td>0000036884</td>\n",
       "      <td>False</td>\n",
       "    </tr>\n",
       "    <tr>\n",
       "      <th>3</th>\n",
       "      <td>Holothurin A</td>\n",
       "      <td>38-26-6</td>\n",
       "      <td>0000038266</td>\n",
       "      <td>False</td>\n",
       "    </tr>\n",
       "    <tr>\n",
       "      <th>4</th>\n",
       "      <td>Methanal</td>\n",
       "      <td>50-00-0</td>\n",
       "      <td>0000050000</td>\n",
       "      <td>False</td>\n",
       "    </tr>\n",
       "  </tbody>\n",
       "</table>\n",
       "</div>"
      ],
      "text/plain": [
       "             Subst_Name    CASRN          id  Dup_Name_Flag\n",
       "0   Monobutyl phthalate  34-74-2  0000034742           True\n",
       "1  Dimethyltubocurarine  35-67-6  0000035676          False\n",
       "2           Carotenoids  36-88-4  0000036884          False\n",
       "3          Holothurin A  38-26-6  0000038266          False\n",
       "4              Methanal  50-00-0  0000050000          False"
      ]
     },
     "execution_count": 16,
     "metadata": {},
     "output_type": "execute_result"
    }
   ],
   "source": [
    "name_CAS_df.head()"
   ]
  },
  {
   "cell_type": "code",
   "execution_count": 39,
   "metadata": {},
   "outputs": [
    {
     "name": "stdout",
     "output_type": "stream",
     "text": [
      "0000034742\n"
     ]
    }
   ],
   "source": []
  },
  {
   "cell_type": "code",
   "execution_count": null,
   "metadata": {},
   "outputs": [],
   "source": []
  }
 ],
 "metadata": {
  "kernelspec": {
   "display_name": "Python 3",
   "language": "python",
   "name": "python3"
  },
  "language_info": {
   "codemirror_mode": {
    "name": "ipython",
    "version": 3
   },
   "file_extension": ".py",
   "mimetype": "text/x-python",
   "name": "python",
   "nbconvert_exporter": "python",
   "pygments_lexer": "ipython3",
   "version": "3.7.3"
  }
 },
 "nbformat": 4,
 "nbformat_minor": 2
}

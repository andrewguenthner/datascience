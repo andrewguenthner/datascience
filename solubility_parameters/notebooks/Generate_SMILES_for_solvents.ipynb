{
 "cells": [
  {
   "cell_type": "markdown",
   "metadata": {},
   "source": [
    "# Retrieve SMILES of Common Solvents\n",
    "\n",
    "### What This Creates\n",
    "\n",
    "* CSV files names and SMILES strings for all the common solvents in the solvents table of the `hsp.sqlite` database\n",
    "\n",
    "### Rationale\n",
    "\n",
    "*  Why This?  The program `substructure_search.py` generates group counts for the group contribution based estimate of Hansen Solubility Parameters.  Before running the entire set of 120,000 compounds, a validation set having very well known structures is needed to make sure that groups are automatically counted correctly.  \n",
    "\n",
    "*  Why Me?  Because I have hand-translated the Fedors gorups to SMARTS patterns, no one else has validated that these patterns work as expected.\n",
    "\n",
    "*  Why Now?  Validating the SMARTS-based group counts is the final step needed before generating Hansen Solubility Parameters for all the compounds in the National Library of Medicine database, which is the key achievement to be demonstrated at the ACS meeting on Aug 26."
   ]
  },
  {
   "cell_type": "markdown",
   "metadata": {},
   "source": [
    "### Requirements\n",
    "\n",
    "* Pandas 0.25.0"
   ]
  },
  {
   "cell_type": "markdown",
   "metadata": {},
   "source": [
    "### Input / Output\n",
    "\n",
    "*  The notebook should be in `solubility_parameters/notebooks`.  The input files are expected to be in `solubility_parameters/db_files` for the solvents table (`solvents.csv`) and in `solubility_parameters/smiles` for the SMILES tables, which are in 11 files of up to 10,000 entries each with filename `ids_smiles_{*}.csv`\n",
    "\n",
    "* The output file will be placed in `solubility_parameters/aprl-ssp`, which is the folder where the program `substructure_search.py` resides and expects to see the SMILES tables.  The output filename will be `solvent_smiles.csv`."
   ]
  },
  {
   "cell_type": "markdown",
   "metadata": {},
   "source": [
    "## Import Set-Up"
   ]
  },
  {
   "cell_type": "code",
   "execution_count": 1,
   "metadata": {},
   "outputs": [],
   "source": [
    "import pandas as pd\n",
    "import glob"
   ]
  },
  {
   "cell_type": "code",
   "execution_count": 5,
   "metadata": {},
   "outputs": [
    {
     "data": {
      "text/html": [
       "<div>\n",
       "<style scoped>\n",
       "    .dataframe tbody tr th:only-of-type {\n",
       "        vertical-align: middle;\n",
       "    }\n",
       "\n",
       "    .dataframe tbody tr th {\n",
       "        vertical-align: top;\n",
       "    }\n",
       "\n",
       "    .dataframe thead th {\n",
       "        text-align: right;\n",
       "    }\n",
       "</style>\n",
       "<table border=\"1\" class=\"dataframe\">\n",
       "  <thead>\n",
       "    <tr style=\"text-align: right;\">\n",
       "      <th></th>\n",
       "      <th>0</th>\n",
       "      <th>1</th>\n",
       "    </tr>\n",
       "  </thead>\n",
       "  <tbody>\n",
       "    <tr>\n",
       "      <th>0</th>\n",
       "      <td>34742</td>\n",
       "      <td>CCCCOC(=O)C1=CC=CC=C1C(=O)O</td>\n",
       "    </tr>\n",
       "    <tr>\n",
       "      <th>1</th>\n",
       "      <td>35676</td>\n",
       "      <td>CN1CCC2=CC(=C3C=C2[C@@H]1CC4=CC=C(C=C4)OC5=C6[...</td>\n",
       "    </tr>\n",
       "    <tr>\n",
       "      <th>2</th>\n",
       "      <td>38266</td>\n",
       "      <td>C[C@@H]1[C@H]([C@@H]([C@H]([C@@H](O1)O[C@@H]2[...</td>\n",
       "    </tr>\n",
       "    <tr>\n",
       "      <th>3</th>\n",
       "      <td>50000</td>\n",
       "      <td>C=O</td>\n",
       "    </tr>\n",
       "    <tr>\n",
       "      <th>4</th>\n",
       "      <td>50011</td>\n",
       "      <td>C(=N)(N)N.Cl</td>\n",
       "    </tr>\n",
       "  </tbody>\n",
       "</table>\n",
       "</div>"
      ],
      "text/plain": [
       "       0                                                  1\n",
       "0  34742                        CCCCOC(=O)C1=CC=CC=C1C(=O)O\n",
       "1  35676  CN1CCC2=CC(=C3C=C2[C@@H]1CC4=CC=C(C=C4)OC5=C6[...\n",
       "2  38266  C[C@@H]1[C@H]([C@@H]([C@H]([C@@H](O1)O[C@@H]2[...\n",
       "3  50000                                                C=O\n",
       "4  50011                                       C(=N)(N)N.Cl"
      ]
     },
     "execution_count": 5,
     "metadata": {},
     "output_type": "execute_result"
    }
   ],
   "source": [
    "smiles_df = pd.DataFrame()\n",
    "for smiles_file in glob.glob('../smiles/ids_smiles_*.csv'):\n",
    "    temp_df = pd.read_csv(smiles_file, header=None)\n",
    "    smiles_df = smiles_df.append(temp_df)\n",
    "smiles_df.head()"
   ]
  },
  {
   "cell_type": "code",
   "execution_count": 6,
   "metadata": {},
   "outputs": [
    {
     "data": {
      "text/plain": [
       "108604"
      ]
     },
     "execution_count": 6,
     "metadata": {},
     "output_type": "execute_result"
    }
   ],
   "source": [
    "len(smiles_df)"
   ]
  },
  {
   "cell_type": "code",
   "execution_count": 7,
   "metadata": {},
   "outputs": [
    {
     "data": {
      "text/html": [
       "<div>\n",
       "<style scoped>\n",
       "    .dataframe tbody tr th:only-of-type {\n",
       "        vertical-align: middle;\n",
       "    }\n",
       "\n",
       "    .dataframe tbody tr th {\n",
       "        vertical-align: top;\n",
       "    }\n",
       "\n",
       "    .dataframe thead th {\n",
       "        text-align: right;\n",
       "    }\n",
       "</style>\n",
       "<table border=\"1\" class=\"dataframe\">\n",
       "  <thead>\n",
       "    <tr style=\"text-align: right;\">\n",
       "      <th></th>\n",
       "      <th>nlm_num</th>\n",
       "      <th>smiles</th>\n",
       "    </tr>\n",
       "  </thead>\n",
       "  <tbody>\n",
       "    <tr>\n",
       "      <th>0</th>\n",
       "      <td>34742</td>\n",
       "      <td>CCCCOC(=O)C1=CC=CC=C1C(=O)O</td>\n",
       "    </tr>\n",
       "    <tr>\n",
       "      <th>1</th>\n",
       "      <td>35676</td>\n",
       "      <td>CN1CCC2=CC(=C3C=C2[C@@H]1CC4=CC=C(C=C4)OC5=C6[...</td>\n",
       "    </tr>\n",
       "    <tr>\n",
       "      <th>2</th>\n",
       "      <td>38266</td>\n",
       "      <td>C[C@@H]1[C@H]([C@@H]([C@H]([C@@H](O1)O[C@@H]2[...</td>\n",
       "    </tr>\n",
       "    <tr>\n",
       "      <th>3</th>\n",
       "      <td>50000</td>\n",
       "      <td>C=O</td>\n",
       "    </tr>\n",
       "    <tr>\n",
       "      <th>4</th>\n",
       "      <td>50011</td>\n",
       "      <td>C(=N)(N)N.Cl</td>\n",
       "    </tr>\n",
       "  </tbody>\n",
       "</table>\n",
       "</div>"
      ],
      "text/plain": [
       "   nlm_num                                             smiles\n",
       "0    34742                        CCCCOC(=O)C1=CC=CC=C1C(=O)O\n",
       "1    35676  CN1CCC2=CC(=C3C=C2[C@@H]1CC4=CC=C(C=C4)OC5=C6[...\n",
       "2    38266  C[C@@H]1[C@H]([C@@H]([C@H]([C@@H](O1)O[C@@H]2[...\n",
       "3    50000                                                C=O\n",
       "4    50011                                       C(=N)(N)N.Cl"
      ]
     },
     "execution_count": 7,
     "metadata": {},
     "output_type": "execute_result"
    }
   ],
   "source": [
    "smiles_df.columns = ['nlm_num','smiles']\n",
    "smiles_df.head()"
   ]
  },
  {
   "cell_type": "code",
   "execution_count": 8,
   "metadata": {},
   "outputs": [
    {
     "data": {
      "text/html": [
       "<div>\n",
       "<style scoped>\n",
       "    .dataframe tbody tr th:only-of-type {\n",
       "        vertical-align: middle;\n",
       "    }\n",
       "\n",
       "    .dataframe tbody tr th {\n",
       "        vertical-align: top;\n",
       "    }\n",
       "\n",
       "    .dataframe thead th {\n",
       "        text-align: right;\n",
       "    }\n",
       "</style>\n",
       "<table border=\"1\" class=\"dataframe\">\n",
       "  <thead>\n",
       "    <tr style=\"text-align: right;\">\n",
       "      <th></th>\n",
       "      <th>solvent_id</th>\n",
       "      <th>nlm_num</th>\n",
       "      <th>subst_display_name</th>\n",
       "      <th>subst_category</th>\n",
       "      <th>delta_d</th>\n",
       "      <th>delta_p</th>\n",
       "      <th>delta_h</th>\n",
       "      <th>mol_vol</th>\n",
       "      <th>src_id</th>\n",
       "      <th>src_ref</th>\n",
       "      <th>boil_pt</th>\n",
       "      <th>flash_pt</th>\n",
       "      <th>chem21_safety</th>\n",
       "      <th>chem21_health</th>\n",
       "      <th>chem21_env</th>\n",
       "      <th>chem21_rank</th>\n",
       "      <th>prop_src_id</th>\n",
       "    </tr>\n",
       "  </thead>\n",
       "  <tbody>\n",
       "    <tr>\n",
       "      <th>0</th>\n",
       "      <td>0</td>\n",
       "      <td>64197</td>\n",
       "      <td>Acetic acid (Ethanoic acid)</td>\n",
       "      <td>solvent</td>\n",
       "      <td>14.5</td>\n",
       "      <td>8.0</td>\n",
       "      <td>13.5</td>\n",
       "      <td>57.1</td>\n",
       "      <td>1</td>\n",
       "      <td>A1.5</td>\n",
       "      <td>118.0</td>\n",
       "      <td>39.0</td>\n",
       "      <td>3.0</td>\n",
       "      <td>7.0</td>\n",
       "      <td>3.0</td>\n",
       "      <td>2.0</td>\n",
       "      <td>2</td>\n",
       "    </tr>\n",
       "    <tr>\n",
       "      <th>1</th>\n",
       "      <td>1</td>\n",
       "      <td>108247</td>\n",
       "      <td>Acetic anhydride (Acetyl acetate)</td>\n",
       "      <td>solvent rx</td>\n",
       "      <td>16.0</td>\n",
       "      <td>11.7</td>\n",
       "      <td>10.2</td>\n",
       "      <td>94.5</td>\n",
       "      <td>1</td>\n",
       "      <td>A1.6</td>\n",
       "      <td>139.0</td>\n",
       "      <td>49.0</td>\n",
       "      <td>3.0</td>\n",
       "      <td>7.0</td>\n",
       "      <td>3.0</td>\n",
       "      <td>2.0</td>\n",
       "      <td>2</td>\n",
       "    </tr>\n",
       "    <tr>\n",
       "      <th>2</th>\n",
       "      <td>2</td>\n",
       "      <td>67641</td>\n",
       "      <td>Acetone (Dimethyl ketone)</td>\n",
       "      <td>solvent</td>\n",
       "      <td>15.5</td>\n",
       "      <td>10.4</td>\n",
       "      <td>7.0</td>\n",
       "      <td>74.0</td>\n",
       "      <td>1</td>\n",
       "      <td>A1.7</td>\n",
       "      <td>56.0</td>\n",
       "      <td>-18.0</td>\n",
       "      <td>5.0</td>\n",
       "      <td>3.0</td>\n",
       "      <td>5.0</td>\n",
       "      <td>1.0</td>\n",
       "      <td>2</td>\n",
       "    </tr>\n",
       "    <tr>\n",
       "      <th>3</th>\n",
       "      <td>3</td>\n",
       "      <td>75058</td>\n",
       "      <td>Acetonitrile (Methyl cyanide)</td>\n",
       "      <td>solvent</td>\n",
       "      <td>15.3</td>\n",
       "      <td>18.0</td>\n",
       "      <td>6.1</td>\n",
       "      <td>52.6</td>\n",
       "      <td>1</td>\n",
       "      <td>A1.10</td>\n",
       "      <td>82.0</td>\n",
       "      <td>2.0</td>\n",
       "      <td>4.0</td>\n",
       "      <td>3.0</td>\n",
       "      <td>3.0</td>\n",
       "      <td>2.0</td>\n",
       "      <td>2</td>\n",
       "    </tr>\n",
       "    <tr>\n",
       "      <th>4</th>\n",
       "      <td>4</td>\n",
       "      <td>98862</td>\n",
       "      <td>Acetophenone (Acetylbenzene)</td>\n",
       "      <td>solvent</td>\n",
       "      <td>19.6</td>\n",
       "      <td>8.6</td>\n",
       "      <td>3.7</td>\n",
       "      <td>117.4</td>\n",
       "      <td>1</td>\n",
       "      <td>A1.11</td>\n",
       "      <td>NaN</td>\n",
       "      <td>NaN</td>\n",
       "      <td>NaN</td>\n",
       "      <td>NaN</td>\n",
       "      <td>NaN</td>\n",
       "      <td>NaN</td>\n",
       "      <td>NaN</td>\n",
       "    </tr>\n",
       "  </tbody>\n",
       "</table>\n",
       "</div>"
      ],
      "text/plain": [
       "   solvent_id  nlm_num                 subst_display_name subst_category  \\\n",
       "0           0    64197        Acetic acid (Ethanoic acid)        solvent   \n",
       "1           1   108247  Acetic anhydride (Acetyl acetate)     solvent rx   \n",
       "2           2    67641          Acetone (Dimethyl ketone)        solvent   \n",
       "3           3    75058      Acetonitrile (Methyl cyanide)        solvent   \n",
       "4           4    98862       Acetophenone (Acetylbenzene)        solvent   \n",
       "\n",
       "   delta_d  delta_p  delta_h  mol_vol  src_id src_ref  boil_pt  flash_pt  \\\n",
       "0     14.5      8.0     13.5     57.1       1    A1.5    118.0      39.0   \n",
       "1     16.0     11.7     10.2     94.5       1    A1.6    139.0      49.0   \n",
       "2     15.5     10.4      7.0     74.0       1    A1.7     56.0     -18.0   \n",
       "3     15.3     18.0      6.1     52.6       1   A1.10     82.0       2.0   \n",
       "4     19.6      8.6      3.7    117.4       1   A1.11      NaN       NaN   \n",
       "\n",
       "   chem21_safety  chem21_health  chem21_env  chem21_rank prop_src_id  \n",
       "0            3.0            7.0         3.0          2.0           2  \n",
       "1            3.0            7.0         3.0          2.0           2  \n",
       "2            5.0            3.0         5.0          1.0           2  \n",
       "3            4.0            3.0         3.0          2.0           2  \n",
       "4            NaN            NaN         NaN          NaN         NaN  "
      ]
     },
     "execution_count": 8,
     "metadata": {},
     "output_type": "execute_result"
    }
   ],
   "source": [
    "solvents_df = pd.read_csv('../db_files/solvents.csv')\n",
    "solvents_df.head()"
   ]
  },
  {
   "cell_type": "markdown",
   "metadata": {},
   "source": [
    "### Process files"
   ]
  },
  {
   "cell_type": "code",
   "execution_count": 13,
   "metadata": {},
   "outputs": [
    {
     "data": {
      "text/html": [
       "<div>\n",
       "<style scoped>\n",
       "    .dataframe tbody tr th:only-of-type {\n",
       "        vertical-align: middle;\n",
       "    }\n",
       "\n",
       "    .dataframe tbody tr th {\n",
       "        vertical-align: top;\n",
       "    }\n",
       "\n",
       "    .dataframe thead th {\n",
       "        text-align: right;\n",
       "    }\n",
       "</style>\n",
       "<table border=\"1\" class=\"dataframe\">\n",
       "  <thead>\n",
       "    <tr style=\"text-align: right;\">\n",
       "      <th></th>\n",
       "      <th>SMILES</th>\n",
       "    </tr>\n",
       "    <tr>\n",
       "      <th>compound</th>\n",
       "      <th></th>\n",
       "    </tr>\n",
       "  </thead>\n",
       "  <tbody>\n",
       "    <tr>\n",
       "      <th>64197</th>\n",
       "      <td>CC(=O)O</td>\n",
       "    </tr>\n",
       "    <tr>\n",
       "      <th>108247</th>\n",
       "      <td>CC(=O)OC(=O)C</td>\n",
       "    </tr>\n",
       "    <tr>\n",
       "      <th>67641</th>\n",
       "      <td>CC(=O)C</td>\n",
       "    </tr>\n",
       "    <tr>\n",
       "      <th>75058</th>\n",
       "      <td>CC#N</td>\n",
       "    </tr>\n",
       "    <tr>\n",
       "      <th>98862</th>\n",
       "      <td>CC(=O)C1=CC=CC=C1</td>\n",
       "    </tr>\n",
       "  </tbody>\n",
       "</table>\n",
       "</div>"
      ],
      "text/plain": [
       "                     SMILES\n",
       "compound                   \n",
       "64197               CC(=O)O\n",
       "108247        CC(=O)OC(=O)C\n",
       "67641               CC(=O)C\n",
       "75058                  CC#N\n",
       "98862     CC(=O)C1=CC=CC=C1"
      ]
     },
     "execution_count": 13,
     "metadata": {},
     "output_type": "execute_result"
    }
   ],
   "source": [
    "# A simple merge and clean-up to make the table have headings of 'compound','SMILES' for compatibility\n",
    "# with substructure_search.py is all that is needed...\n",
    "solvent_smiles_df = solvents_df.merge(smiles_df, on='nlm_num', how='inner')[['nlm_num','smiles']]\n",
    "solvent_smiles_df = solvent_smiles_df.rename(columns = {'nlm_num':'compound','smiles':'SMILES'}).set_index('compound')\n",
    "solvent_smiles_df.head()"
   ]
  },
  {
   "cell_type": "code",
   "execution_count": 15,
   "metadata": {
    "scrolled": true
   },
   "outputs": [],
   "source": [
    "solvent_smiles_df.to_csv('../aprl-ssp/solvent_smiles.csv')"
   ]
  },
  {
   "cell_type": "code",
   "execution_count": null,
   "metadata": {},
   "outputs": [],
   "source": []
  }
 ],
 "metadata": {
  "kernelspec": {
   "display_name": "Python 3",
   "language": "python",
   "name": "python3"
  },
  "language_info": {
   "codemirror_mode": {
    "name": "ipython",
    "version": 3
   },
   "file_extension": ".py",
   "mimetype": "text/x-python",
   "name": "python",
   "nbconvert_exporter": "python",
   "pygments_lexer": "ipython3",
   "version": "3.7.3"
  }
 },
 "nbformat": 4,
 "nbformat_minor": 2
}
